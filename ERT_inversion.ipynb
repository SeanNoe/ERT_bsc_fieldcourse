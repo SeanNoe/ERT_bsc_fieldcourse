{
 "cells": [
  {
   "cell_type": "markdown",
   "id": "fdb70f9f",
   "metadata": {},
   "source": [
    "# ERT Inversion\n",
    "\n",
    "In this notebook, we will run an inversion to derive a subsurface model for the data we collected in the field today.\n",
    "\n",
    "Here we import a few python packages. The crucial package here is PyGimli (https://www.pygimli.org), an inversion toolbox for geophysics. "
   ]
  },
  {
   "cell_type": "code",
   "execution_count": 1,
   "id": "038b50a0",
   "metadata": {},
   "outputs": [],
   "source": [
    "import pygimli as pg\n",
    "import numpy as np\n",
    "from pygimli.physics import ert\n",
    "import matplotlib.pyplot as plt"
   ]
  },
  {
   "cell_type": "markdown",
   "id": "512a7d73",
   "metadata": {},
   "source": [
    "Load in the data from moodle. You may have to adapt the path."
   ]
  },
  {
   "cell_type": "code",
   "execution_count": 3,
   "id": "07803e5a",
   "metadata": {},
   "outputs": [
    {
     "name": "stdout",
     "output_type": "stream",
     "text": [
      " 20K\tDipDip1_topo.ohm\n",
      "Data: Sensors: 96 data: 401, nonzero entries: ['a', 'b', 'err', 'm', 'n', 'r', 'valid']\n"
     ]
    }
   ],
   "source": [
    "PATH = 'DipDip1_topo.ohm' \n",
    "data = ert.load(PATH, load=True, verbose=True)\n",
    "!du -sh $PATH\n",
    "print(data)"
   ]
  },
  {
   "cell_type": "markdown",
   "id": "08a489c8",
   "metadata": {},
   "source": []
  }
 ],
 "metadata": {
  "kernelspec": {
   "display_name": "Python 3 (ipykernel)",
   "language": "python",
   "name": "python3"
  },
  "language_info": {
   "codemirror_mode": {
    "name": "ipython",
    "version": 3
   },
   "file_extension": ".py",
   "mimetype": "text/x-python",
   "name": "python",
   "nbconvert_exporter": "python",
   "pygments_lexer": "ipython3",
   "version": "3.11.3"
  }
 },
 "nbformat": 4,
 "nbformat_minor": 5
}
