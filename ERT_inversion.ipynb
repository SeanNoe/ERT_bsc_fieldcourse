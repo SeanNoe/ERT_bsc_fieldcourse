{
 "cells": [
  {
   "cell_type": "markdown",
   "id": "fdb70f9f",
   "metadata": {},
   "source": [
    "# ERT Inversion\n",
    "\n",
    "In this notebook, we run an inversion to derive a subsurface model for the data we collected in the field today.\n",
    "\n",
    "Here we import a few python packages. The crucial package here is PyGimli (https://www.pygimli.org), an inversion toolbox for geophysics. "
   ]
  },
  {
   "cell_type": "code",
   "execution_count": null,
   "id": "038b50a0",
   "metadata": {},
   "outputs": [],
   "source": [
    "import pygimli as pg\n",
    "import numpy as np\n",
    "from pygimli.physics import ert\n",
    "import matplotlib.pyplot as plt"
   ]
  },
  {
   "cell_type": "markdown",
   "id": "512a7d73",
   "metadata": {},
   "source": [
    "Load in the data. You may have to adapt the path."
   ]
  },
  {
   "cell_type": "code",
   "execution_count": null,
   "id": "07803e5a",
   "metadata": {},
   "outputs": [],
   "source": [
    "PATH = 'DATA/DipDip1_topo.ohm' \n",
    "data = ert.load(PATH, load=True, verbose=True)\n",
    "\n",
    "print(data)"
   ]
  },
  {
   "cell_type": "markdown",
   "id": "08a489c8",
   "metadata": {},
   "source": [
    "Check out the various entries in data. Can you figure out what they mean?"
   ]
  },
  {
   "cell_type": "code",
   "execution_count": null,
   "id": "c0a73c60",
   "metadata": {
    "scrolled": false
   },
   "outputs": [],
   "source": [
    "data['a']"
   ]
  },
  {
   "cell_type": "markdown",
   "id": "f4f941cb",
   "metadata": {},
   "source": [
    "Plot with apparent resistivities again measurement id."
   ]
  },
  {
   "cell_type": "code",
   "execution_count": null,
   "id": "7ad04f5e",
   "metadata": {
    "scrolled": false
   },
   "outputs": [],
   "source": [
    "plt.figure(figsize = (5,3))\n",
    "\n",
    "plt.plot(data['r'], c = 'r', lw = 1)\n",
    "plt.plot(data['r'] + data['err'], c = 'grey', ls='--', lw=1)\n",
    "plt.plot(data['r'] - data['err'], c = 'grey', ls='--', lw=1)\n",
    "\n",
    "plt.ylabel('raw resistivity', fontsize = 11)\n",
    "plt.xlabel('measurement id', fontsize = 11 )\n",
    "plt.show()"
   ]
  },
  {
   "cell_type": "markdown",
   "id": "5fe5de79",
   "metadata": {},
   "source": [
    "Raw resistivities do not include information about the geometry of the configuration and therefor do not tell us much.\n",
    "\n",
    "As the data holds the location of electrods a,b,m and n, we can compute the geometry factor for each measurement."
   ]
  },
  {
   "cell_type": "code",
   "execution_count": null,
   "id": "0ca512a5",
   "metadata": {},
   "outputs": [],
   "source": [
    "data['k'] = ert.createGeometricFactors(data)\n",
    "\n",
    "plt.figure(figsize = (5,3))\n",
    "\n",
    "plt.plot(data['k'], c = 'b', lw = 1)\n",
    "\n",
    "plt.ylabel('Geometry factor', fontsize = 11)\n",
    "plt.xlabel('measurement id', fontsize = 11 )\n",
    "plt.show()"
   ]
  },
  {
   "cell_type": "markdown",
   "id": "d3d2eb99",
   "metadata": {},
   "source": [
    "Same plot again with the corrections for the geometry."
   ]
  },
  {
   "cell_type": "code",
   "execution_count": null,
   "id": "3ada3ea9",
   "metadata": {},
   "outputs": [],
   "source": [
    "plt.figure(figsize = (5,3))\n",
    "\n",
    "plt.plot(data['r'] * data['k'], c = 'r', lw = 1)\n",
    "plt.plot((data['r'] + data['err']) * data['k'], c = 'grey', ls='--', lw=1)\n",
    "plt.plot((data['r'] - data['err']) * data['k'], c = 'grey', ls='--', lw=1)\n",
    "\n",
    "plt.ylabel('apparent resistivity [ohm.m]', fontsize = 11)\n",
    "plt.xlabel('measurement id', fontsize = 11 )\n",
    "plt.show()"
   ]
  },
  {
   "cell_type": "markdown",
   "id": "3a0516a8",
   "metadata": {},
   "source": [
    "In the next cells, we initiate the inversion manager."
   ]
  },
  {
   "cell_type": "code",
   "execution_count": null,
   "id": "cbb736a3",
   "metadata": {},
   "outputs": [],
   "source": [
    "mgr= ert.ERTManager()"
   ]
  },
  {
   "cell_type": "code",
   "execution_count": null,
   "id": "3df0f5ed",
   "metadata": {},
   "outputs": [],
   "source": [
    "mgr.checkData(data)"
   ]
  },
  {
   "cell_type": "markdown",
   "id": "644f4d2c",
   "metadata": {},
   "source": [
    "This is a visualization of our pseudosection."
   ]
  },
  {
   "cell_type": "code",
   "execution_count": null,
   "id": "11db2f74",
   "metadata": {},
   "outputs": [],
   "source": [
    "ert.showERTData(data, vals='rhoa')"
   ]
  },
  {
   "cell_type": "markdown",
   "id": "36cd744c",
   "metadata": {},
   "source": [
    "This is where the magic happens.\n",
    "\n",
    "We invert the data by setting up a model that best explains our observations within the error bars."
   ]
  },
  {
   "cell_type": "code",
   "execution_count": null,
   "id": "d859290f",
   "metadata": {
    "scrolled": true
   },
   "outputs": [],
   "source": [
    "mod = mgr.invert(data, verbose=True, paraDx = 1.0, paraMaxCellSize=10, quality=33)"
   ]
  },
  {
   "cell_type": "code",
   "execution_count": null,
   "id": "993bdd62",
   "metadata": {},
   "outputs": [],
   "source": [
    "mgr.showResult();"
   ]
  },
  {
   "cell_type": "code",
   "execution_count": null,
   "id": "d811e8c0",
   "metadata": {},
   "outputs": [],
   "source": [
    "mgr.showResultAndFit();"
   ]
  },
  {
   "cell_type": "code",
   "execution_count": null,
   "id": "bcb05085",
   "metadata": {},
   "outputs": [],
   "source": []
  }
 ],
 "metadata": {
  "kernelspec": {
   "display_name": "Python 3 (ipykernel)",
   "language": "python",
   "name": "python3"
  },
  "language_info": {
   "codemirror_mode": {
    "name": "ipython",
    "version": 3
   },
   "file_extension": ".py",
   "mimetype": "text/x-python",
   "name": "python",
   "nbconvert_exporter": "python",
   "pygments_lexer": "ipython3",
   "version": "3.11.3"
  }
 },
 "nbformat": 4,
 "nbformat_minor": 5
}
